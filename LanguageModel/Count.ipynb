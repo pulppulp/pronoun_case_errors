{
 "cells": [
  {
   "cell_type": "code",
   "execution_count": 1,
   "metadata": {},
   "outputs": [],
   "source": [
    "import nltk\n",
    "from nltk.corpus.reader import CHILDESCorpusReader\n",
    "import numpy as np\n",
    "import pandas as pd\n",
    "from nltk.probability import FreqDist\n",
    "corpus = nltk.data.find('/Users/Ershui13/Desktop/ABSTRACT/LanguageModel/')\n",
    "Peter = CHILDESCorpusReader(corpus, 'Peter/.*.xml')"
   ]
  },
  {
   "cell_type": "code",
   "execution_count": 13,
   "metadata": {},
   "outputs": [],
   "source": [
    "Peter = CHILDESCorpusReader(corpus, 'Peter/.*.xml')"
   ]
  },
  {
   "cell_type": "code",
   "execution_count": 2,
   "metadata": {},
   "outputs": [],
   "source": [
    "pronounlist=['i', 'me', 'you', 'he' ,'him', 'she', 'her', 'we', 'us', 'they', 'them', 'it']\n",
    "Nom = ['i', 'he', 'she', 'we', 'they']\n",
    "Acc = ['me','him','her','us','them']\n",
    "import re\n",
    "from nltk.util import ngrams\n",
    "import itertools"
   ]
  },
  {
   "cell_type": "code",
   "execution_count": 3,
   "metadata": {},
   "outputs": [],
   "source": [
    "def pgram (ngram):\n",
    "    p_gram = []\n",
    "    for gr in ngram:\n",
    "        for p in pronounlist:\n",
    "            if p in gr:\n",
    "                p_gram.append(gr)\n",
    "    return p_gram\n",
    "def save(t,l):\n",
    "    df = pd.DataFrame(t)\n",
    "    df.to_csv(l,sep=',',index=False)\n",
    "\n",
    "def ngram (n,sents):\n",
    "    tempgram = []\n",
    "    for s in sents:\n",
    "        ss = ' '.join(s) \n",
    "        ss = ss.lower()\n",
    "        ss = '<s> ' + ss + ' <\\s>'\n",
    "        tokens = [token for token in ss.split(' ') if token != '']\n",
    "        output = list(ngrams(tokens, n))\n",
    "        tempgram.append(output)\n",
    "        gram = list(itertools.chain(*tempgram))\n",
    "    return gram"
   ]
  },
  {
   "cell_type": "code",
   "execution_count": 14,
   "metadata": {},
   "outputs": [
    {
     "data": {
      "text/plain": [
       "['Peter/010908.xml',\n",
       " 'Peter/010925.xml',\n",
       " 'Peter/011011.xml',\n",
       " 'Peter/011105.xml',\n",
       " 'Peter/011117.xml',\n",
       " 'Peter/020010.xml',\n",
       " 'Peter/020100.xml',\n",
       " 'Peter/020118.xml',\n",
       " 'Peter/020213.xml',\n",
       " 'Peter/020303.xml',\n",
       " 'Peter/020324.xml',\n",
       " 'Peter/020415.xml',\n",
       " 'Peter/020503.xml',\n",
       " 'Peter/020522.xml',\n",
       " 'Peter/020616.xml',\n",
       " 'Peter/020713.xml',\n",
       " 'Peter/020812.xml',\n",
       " 'Peter/020915.xml',\n",
       " 'Peter/021019.xml',\n",
       " 'Peter/030120.xml']"
      ]
     },
     "execution_count": 14,
     "metadata": {},
     "output_type": "execute_result"
    }
   ],
   "source": [
    "Peter.fileids()"
   ]
  },
  {
   "cell_type": "code",
   "execution_count": 15,
   "metadata": {},
   "outputs": [],
   "source": [
    "mot_word = Peter.words(speaker = ['MOT'])\n",
    "Peter_mot_nom = [word for word in mot_word if word in Nom]\n",
    "Peter_mot_acc = [word for word in mot_word if word in Acc]"
   ]
  },
  {
   "cell_type": "code",
   "execution_count": 17,
   "metadata": {},
   "outputs": [
    {
     "name": "stdout",
     "output_type": "stream",
     "text": [
      "nom Peter mother: 233 acc Peter mother 202\n"
     ]
    }
   ],
   "source": [
    "print('nom Peter mother:', len(Peter_mot_nom), 'acc Peter mother', len(Peter_mot_acc))"
   ]
  },
  {
   "cell_type": "code",
   "execution_count": 25,
   "metadata": {},
   "outputs": [],
   "source": [
    "Naomi = CHILDESCorpusReader(corpus, 'Sachs/.*.xml')"
   ]
  },
  {
   "cell_type": "code",
   "execution_count": 26,
   "metadata": {},
   "outputs": [],
   "source": [
    "Naomi_mot_word = Naomi.words(speaker = ['MOT'])\n",
    "Naomi_mot_nom = [word for word in Naomi_mot_word if word in Nom]\n",
    "Naomi_mot_acc = [word for word in Naomi_mot_word if word in Acc]"
   ]
  },
  {
   "cell_type": "code",
   "execution_count": 27,
   "metadata": {},
   "outputs": [
    {
     "name": "stdout",
     "output_type": "stream",
     "text": [
      "nom Naomi mother: 475 acc Naomi mother 362\n"
     ]
    }
   ],
   "source": [
    "print('nom Naomi mother:', len(Naomi_mot_nom), 'acc Naomi mother', len(Naomi_mot_acc))"
   ]
  },
  {
   "cell_type": "code",
   "execution_count": 28,
   "metadata": {},
   "outputs": [],
   "source": [
    "Nina = CHILDESCorpusReader(corpus, 'Suppes/.*.xml')\n",
    "Nina_mot_word = Nina.words(speaker = ['MOT'])\n",
    "Nina_mot_nom = [word for word in Nina_mot_word if word in Nom]\n",
    "Nina_mot_acc = [word for word in Nina_mot_word if word in Acc]"
   ]
  },
  {
   "cell_type": "code",
   "execution_count": 29,
   "metadata": {},
   "outputs": [
    {
     "name": "stdout",
     "output_type": "stream",
     "text": [
      "nom Nina mother: 5329 acc Nina mother 3158\n"
     ]
    }
   ],
   "source": [
    "print('nom Nina mother:', len(Nina_mot_nom), 'acc Nina mother', len(Nina_mot_acc))"
   ]
  },
  {
   "cell_type": "code",
   "execution_count": 30,
   "metadata": {},
   "outputs": [],
   "source": [
    "Eve = CHILDESCorpusReader(corpus, 'Brown/Eve/.*.xml')\n",
    "Eve_mot_word = Eve.words(speaker = ['MOT'])\n",
    "Eve_mot_nom = [word for word in Eve_mot_word if word in Nom]\n",
    "Eve_mot_acc = [word for word in Eve_mot_word if word in Acc]"
   ]
  },
  {
   "cell_type": "code",
   "execution_count": 31,
   "metadata": {},
   "outputs": [
    {
     "name": "stdout",
     "output_type": "stream",
     "text": [
      "nom Eve mother: 645 acc Eve mother 525\n"
     ]
    }
   ],
   "source": [
    "print('nom Eve mother:', len(Eve_mot_nom), 'acc Eve mother', len(Eve_mot_acc))"
   ]
  },
  {
   "cell_type": "code",
   "execution_count": null,
   "metadata": {},
   "outputs": [],
   "source": []
  }
 ],
 "metadata": {
  "kernelspec": {
   "display_name": "Python 3",
   "language": "python",
   "name": "python3"
  },
  "language_info": {
   "codemirror_mode": {
    "name": "ipython",
    "version": 3
   },
   "file_extension": ".py",
   "mimetype": "text/x-python",
   "name": "python",
   "nbconvert_exporter": "python",
   "pygments_lexer": "ipython3",
   "version": "3.7.3"
  }
 },
 "nbformat": 4,
 "nbformat_minor": 2
}
